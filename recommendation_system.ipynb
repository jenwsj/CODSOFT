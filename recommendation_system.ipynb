{
  "nbformat": 4,
  "nbformat_minor": 0,
  "metadata": {
    "colab": {
      "provenance": [],
      "authorship_tag": "ABX9TyOcxzzSXwTqlvhsqoy5Oy0A",
      "include_colab_link": true
    },
    "kernelspec": {
      "name": "python3",
      "display_name": "Python 3"
    },
    "language_info": {
      "name": "python"
    }
  },
  "cells": [
    {
      "cell_type": "markdown",
      "metadata": {
        "id": "view-in-github",
        "colab_type": "text"
      },
      "source": [
        "<a href=\"https://colab.research.google.com/github/jenwsj/CODSOFT/blob/main/recommendation_system.ipynb\" target=\"_parent\"><img src=\"https://colab.research.google.com/assets/colab-badge.svg\" alt=\"Open In Colab\"/></a>"
      ]
    },
    {
      "cell_type": "code",
      "source": [
        "# Download and unzip MovieLens 100k dataset (contains u.data and u.item)\n",
        "!wget -nc https://files.grouplens.org/datasets/movielens/ml-100k.zip\n",
        "!unzip -o ml-100k.zip\n"
      ],
      "metadata": {
        "colab": {
          "base_uri": "https://localhost:8080/"
        },
        "id": "Rb5GLfPYVMCk",
        "outputId": "4514108e-c7e3-4e15-d234-caef33a438d2"
      },
      "execution_count": 10,
      "outputs": [
        {
          "output_type": "stream",
          "name": "stdout",
          "text": [
            "--2025-06-25 09:05:06--  https://files.grouplens.org/datasets/movielens/ml-100k.zip\n",
            "Resolving files.grouplens.org (files.grouplens.org)... 128.101.65.152\n",
            "Connecting to files.grouplens.org (files.grouplens.org)|128.101.65.152|:443... connected.\n",
            "HTTP request sent, awaiting response... 200 OK\n",
            "Length: 4924029 (4.7M) [application/zip]\n",
            "Saving to: ‘ml-100k.zip’\n",
            "\n",
            "ml-100k.zip         100%[===================>]   4.70M  9.81MB/s    in 0.5s    \n",
            "\n",
            "2025-06-25 09:05:07 (9.81 MB/s) - ‘ml-100k.zip’ saved [4924029/4924029]\n",
            "\n",
            "Archive:  ml-100k.zip\n",
            "   creating: ml-100k/\n",
            "  inflating: ml-100k/allbut.pl       \n",
            "  inflating: ml-100k/mku.sh          \n",
            "  inflating: ml-100k/README          \n",
            "  inflating: ml-100k/u.data          \n",
            "  inflating: ml-100k/u.genre         \n",
            "  inflating: ml-100k/u.info          \n",
            "  inflating: ml-100k/u.item          \n",
            "  inflating: ml-100k/u.occupation    \n",
            "  inflating: ml-100k/u.user          \n",
            "  inflating: ml-100k/u1.base         \n",
            "  inflating: ml-100k/u1.test         \n",
            "  inflating: ml-100k/u2.base         \n",
            "  inflating: ml-100k/u2.test         \n",
            "  inflating: ml-100k/u3.base         \n",
            "  inflating: ml-100k/u3.test         \n",
            "  inflating: ml-100k/u4.base         \n",
            "  inflating: ml-100k/u4.test         \n",
            "  inflating: ml-100k/u5.base         \n",
            "  inflating: ml-100k/u5.test         \n",
            "  inflating: ml-100k/ua.base         \n",
            "  inflating: ml-100k/ua.test         \n",
            "  inflating: ml-100k/ub.base         \n",
            "  inflating: ml-100k/ub.test         \n"
          ]
        }
      ]
    },
    {
      "cell_type": "markdown",
      "source": [],
      "metadata": {
        "id": "Pwfb8155VLx7"
      }
    },
    {
      "cell_type": "code",
      "source": [
        "import pandas as pd\n",
        "from sklearn.metrics.pairwise import cosine_similarity\n",
        "\n",
        "# Load ratings\n",
        "ratings = pd.read_csv('ml-100k/u.data', sep='\\t', names=['user_id', 'movie_id', 'rating', 'timestamp'])\n",
        "\n",
        "# Load movie titles\n",
        "movies = pd.read_csv('ml-100k/u.item', sep='|', encoding='latin-1', header=None, usecols=[0, 1])\n",
        "movies.columns = ['movie_id', 'title']\n",
        "\n",
        "# Merge datasets\n",
        "df = pd.merge(ratings, movies, on='movie_id')\n",
        "\n",
        "# Create user-movie rating matrix\n",
        "user_movie_matrix = df.pivot_table(index='user_id', columns='title', values='rating').fillna(0)\n",
        "\n",
        "# Compute cosine similarity\n",
        "user_similarity = cosine_similarity(user_movie_matrix)\n",
        "\n",
        "# Recommendation function\n",
        "def recommend_movies(user_id, num_recommendations=5):\n",
        "    similarity_scores = list(enumerate(user_similarity[user_id - 1]))\n",
        "    similarity_scores = sorted(similarity_scores, key=lambda x: x[1], reverse=True)\n",
        "    similar_users = [i[0] + 1 for i in similarity_scores[1:6]]\n",
        "    similar_users_data = df[df['user_id'].isin(similar_users)]\n",
        "    top_movies = (similar_users_data.groupby('title')['rating']\n",
        "                  .mean().sort_values(ascending=False)\n",
        "                  .head(num_recommendations))\n",
        "    return top_movies\n",
        "\n",
        "# Recommend for user 1\n",
        "print(\"Recommended movies for user 1:\")\n",
        "print(recommend_movies(user_id=1))\n"
      ],
      "metadata": {
        "colab": {
          "base_uri": "https://localhost:8080/"
        },
        "id": "eN1zu1BHRDAa",
        "outputId": "c264ed65-a6b1-4254-fea3-c08b48cc7063"
      },
      "execution_count": 11,
      "outputs": [
        {
          "output_type": "stream",
          "name": "stdout",
          "text": [
            "Recommended movies for user 1:\n",
            "title\n",
            "Wings of Desire (1987)                5.0\n",
            "Babe (1995)                           5.0\n",
            "Raiders of the Lost Ark (1981)        5.0\n",
            "People vs. Larry Flynt, The (1996)    5.0\n",
            "Angels and Insects (1995)             5.0\n",
            "Name: rating, dtype: float64\n"
          ]
        }
      ]
    }
  ]
}